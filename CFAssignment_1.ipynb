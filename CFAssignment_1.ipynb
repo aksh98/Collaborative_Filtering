{
  "nbformat": 4,
  "nbformat_minor": 0,
  "metadata": {
    "colab": {
      "name": "CFAssignment_1",
      "version": "0.3.2",
      "provenance": [],
      "include_colab_link": true
    },
    "kernelspec": {
      "name": "python3",
      "display_name": "Python 3"
    },
    "accelerator": "GPU"
  },
  "cells": [
    {
      "cell_type": "markdown",
      "metadata": {
        "id": "view-in-github",
        "colab_type": "text"
      },
      "source": [
        "<a href=\"https://colab.research.google.com/github/aksh98/Collaborative_Filtering/blob/master/CFAssignment_1.ipynb\" target=\"_parent\"><img src=\"https://colab.research.google.com/assets/colab-badge.svg\" alt=\"Open In Colab\"/></a>"
      ]
    },
    {
      "metadata": {
        "id": "EhBIU6TwrUuI",
        "colab_type": "text"
      },
      "cell_type": "markdown",
      "source": [
        "## **Getting started with Colab**"
      ]
    },
    {
      "metadata": {
        "id": "9agxq4c0ZGo_",
        "colab_type": "code",
        "outputId": "2c487abc-416c-4697-c4c5-1414ade22867",
        "colab": {
          "base_uri": "https://localhost:8080/",
          "height": 2366
        }
      },
      "cell_type": "code",
      "source": [
        "!apt-get install -y -qq software-properties-common python-software-properties module-init-tools\n",
        "!add-apt-repository -y ppa:alessandro-strada/ppa 2>&1 > /dev/null\n",
        "!apt-get update -qq 2>&1 > /dev/null\n",
        "!apt-get -y install -qq google-drive-ocamlfuse fuse\n",
        "\n",
        "\n",
        "from google.colab import auth\n",
        "auth.authenticate_user()\n",
        "from oauth2client.client import GoogleCredentials\n",
        "creds = GoogleCredentials.get_application_default()\n",
        "import getpass\n",
        "!google-drive-ocamlfuse -headless -id={creds.client_id} -secret={creds.client_secret} < /dev/null 2>&1 | grep URL\n",
        "vcode = getpass.getpass()\n",
        "!echo {vcode} | google-drive-ocamlfuse -headless -id={creds.client_id} -secret={creds.client_secret}"
      ],
      "execution_count": 0,
      "outputs": [
        {
          "output_type": "stream",
          "text": [
            "Preconfiguring packages ...\n",
            "Selecting previously unselected package cron.\n",
            "(Reading database ... 18408 files and directories currently installed.)\n",
            "Preparing to unpack .../00-cron_3.0pl1-128ubuntu5_amd64.deb ...\n",
            "Unpacking cron (3.0pl1-128ubuntu5) ...\n",
            "Selecting previously unselected package libapparmor1:amd64.\n",
            "Preparing to unpack .../01-libapparmor1_2.11.0-2ubuntu17.1_amd64.deb ...\n",
            "Unpacking libapparmor1:amd64 (2.11.0-2ubuntu17.1) ...\n",
            "Selecting previously unselected package libdbus-1-3:amd64.\n",
            "Preparing to unpack .../02-libdbus-1-3_1.10.22-1ubuntu1_amd64.deb ...\n",
            "Unpacking libdbus-1-3:amd64 (1.10.22-1ubuntu1) ...\n",
            "Selecting previously unselected package dbus.\n",
            "Preparing to unpack .../03-dbus_1.10.22-1ubuntu1_amd64.deb ...\n",
            "Unpacking dbus (1.10.22-1ubuntu1) ...\n",
            "Selecting previously unselected package dirmngr.\n",
            "Preparing to unpack .../04-dirmngr_2.1.15-1ubuntu8.1_amd64.deb ...\n",
            "Unpacking dirmngr (2.1.15-1ubuntu8.1) ...\n",
            "Selecting previously unselected package distro-info-data.\n",
            "Preparing to unpack .../05-distro-info-data_0.36ubuntu0.2_all.deb ...\n",
            "Unpacking distro-info-data (0.36ubuntu0.2) ...\n",
            "Selecting previously unselected package libkmod2:amd64.\n",
            "Preparing to unpack .../06-libkmod2_24-1ubuntu2_amd64.deb ...\n",
            "Unpacking libkmod2:amd64 (24-1ubuntu2) ...\n",
            "Selecting previously unselected package kmod.\n",
            "Preparing to unpack .../07-kmod_24-1ubuntu2_amd64.deb ...\n",
            "Unpacking kmod (24-1ubuntu2) ...\n",
            "Selecting previously unselected package lsb-release.\n",
            "Preparing to unpack .../08-lsb-release_9.20160110ubuntu5_all.deb ...\n",
            "Unpacking lsb-release (9.20160110ubuntu5) ...\n",
            "Selecting previously unselected package libgirepository-1.0-1:amd64.\n",
            "Preparing to unpack .../09-libgirepository-1.0-1_1.54.1-1_amd64.deb ...\n",
            "Unpacking libgirepository-1.0-1:amd64 (1.54.1-1) ...\n",
            "Selecting previously unselected package gir1.2-glib-2.0:amd64.\n",
            "Preparing to unpack .../10-gir1.2-glib-2.0_1.54.1-1_amd64.deb ...\n",
            "Unpacking gir1.2-glib-2.0:amd64 (1.54.1-1) ...\n",
            "Selecting previously unselected package iso-codes.\n",
            "Preparing to unpack .../11-iso-codes_3.75-1_all.deb ...\n",
            "Unpacking iso-codes (3.75-1) ...\n",
            "Selecting previously unselected package libdbus-glib-1-2:amd64.\n",
            "Preparing to unpack .../12-libdbus-glib-1-2_0.108-2_amd64.deb ...\n",
            "Unpacking libdbus-glib-1-2:amd64 (0.108-2) ...\n",
            "Selecting previously unselected package python-apt-common.\n",
            "Preparing to unpack .../13-python-apt-common_1.4.0~beta3build2_all.deb ...\n",
            "Unpacking python-apt-common (1.4.0~beta3build2) ...\n",
            "Selecting previously unselected package python3-apt.\n",
            "Preparing to unpack .../14-python3-apt_1.4.0~beta3build2_amd64.deb ...\n",
            "Unpacking python3-apt (1.4.0~beta3build2) ...\n",
            "Selecting previously unselected package python3-dbus.\n",
            "Preparing to unpack .../15-python3-dbus_1.2.4-1build3_amd64.deb ...\n",
            "Unpacking python3-dbus (1.2.4-1build3) ...\n",
            "Selecting previously unselected package python3-gi.\n",
            "Preparing to unpack .../16-python3-gi_3.24.1-2build1_amd64.deb ...\n",
            "Unpacking python3-gi (3.24.1-2build1) ...\n",
            "Selecting previously unselected package module-init-tools.\n",
            "Preparing to unpack .../17-module-init-tools_24-1ubuntu2_all.deb ...\n",
            "Unpacking module-init-tools (24-1ubuntu2) ...\n",
            "Selecting previously unselected package python-apt.\n",
            "Preparing to unpack .../18-python-apt_1.4.0~beta3build2_amd64.deb ...\n",
            "Unpacking python-apt (1.4.0~beta3build2) ...\n",
            "Selecting previously unselected package python-pycurl.\n",
            "Preparing to unpack .../19-python-pycurl_7.43.0-2build2_amd64.deb ...\n",
            "Unpacking python-pycurl (7.43.0-2build2) ...\n",
            "Selecting previously unselected package python-software-properties.\n",
            "Preparing to unpack .../20-python-software-properties_0.96.24.17_all.deb ...\n",
            "Unpacking python-software-properties (0.96.24.17) ...\n",
            "Selecting previously unselected package python3-software-properties.\n",
            "Preparing to unpack .../21-python3-software-properties_0.96.24.17_all.deb ...\n",
            "Unpacking python3-software-properties (0.96.24.17) ...\n",
            "Selecting previously unselected package software-properties-common.\n",
            "Preparing to unpack .../22-software-properties-common_0.96.24.17_all.deb ...\n",
            "Unpacking software-properties-common (0.96.24.17) ...\n",
            "Selecting previously unselected package unattended-upgrades.\n",
            "Preparing to unpack .../23-unattended-upgrades_0.98ubuntu1.1_all.deb ...\n",
            "Unpacking unattended-upgrades (0.98ubuntu1.1) ...\n",
            "Setting up python-apt-common (1.4.0~beta3build2) ...\n",
            "Setting up python3-apt (1.4.0~beta3build2) ...\n",
            "Setting up iso-codes (3.75-1) ...\n",
            "Setting up distro-info-data (0.36ubuntu0.2) ...\n",
            "Setting up python-pycurl (7.43.0-2build2) ...\n",
            "Setting up lsb-release (9.20160110ubuntu5) ...\n",
            "Setting up libgirepository-1.0-1:amd64 (1.54.1-1) ...\n",
            "Setting up libkmod2:amd64 (24-1ubuntu2) ...\n",
            "Setting up gir1.2-glib-2.0:amd64 (1.54.1-1) ...\n",
            "Processing triggers for libc-bin (2.26-0ubuntu2.1) ...\n",
            "Setting up libapparmor1:amd64 (2.11.0-2ubuntu17.1) ...\n",
            "Setting up unattended-upgrades (0.98ubuntu1.1) ...\n",
            "\n",
            "Creating config file /etc/apt/apt.conf.d/20auto-upgrades with new version\n",
            "\n",
            "Creating config file /etc/apt/apt.conf.d/50unattended-upgrades with new version\n",
            "invoke-rc.d: could not determine current runlevel\n",
            "invoke-rc.d: policy-rc.d denied execution of start.\n",
            "Setting up dirmngr (2.1.15-1ubuntu8.1) ...\n",
            "Setting up cron (3.0pl1-128ubuntu5) ...\n",
            "Adding group `crontab' (GID 102) ...\n",
            "Done.\n",
            "update-rc.d: warning: start and stop actions are no longer supported; falling back to defaults\n",
            "update-rc.d: warning: stop runlevel arguments (1) do not match cron Default-Stop values (none)\n",
            "invoke-rc.d: could not determine current runlevel\n",
            "invoke-rc.d: policy-rc.d denied execution of start.\n",
            "Setting up libdbus-1-3:amd64 (1.10.22-1ubuntu1) ...\n",
            "Setting up kmod (24-1ubuntu2) ...\n",
            "Setting up libdbus-glib-1-2:amd64 (0.108-2) ...\n",
            "Setting up python3-gi (3.24.1-2build1) ...\n",
            "Setting up module-init-tools (24-1ubuntu2) ...\n",
            "Setting up python3-software-properties (0.96.24.17) ...\n",
            "Setting up dbus (1.10.22-1ubuntu1) ...\n",
            "Setting up python-apt (1.4.0~beta3build2) ...\n",
            "Setting up python3-dbus (1.2.4-1build3) ...\n",
            "Setting up python-software-properties (0.96.24.17) ...\n",
            "Setting up software-properties-common (0.96.24.17) ...\n",
            "Processing triggers for libc-bin (2.26-0ubuntu2.1) ...\n",
            "Processing triggers for dbus (1.10.22-1ubuntu1) ...\n",
            "gpg: keybox '/tmp/tmpni7rwmu3/pubring.gpg' created\n",
            "gpg: /tmp/tmpni7rwmu3/trustdb.gpg: trustdb created\n",
            "gpg: key AD5F235DF639B041: public key \"Launchpad PPA for Alessandro Strada\" imported\n",
            "gpg: Total number processed: 1\n",
            "gpg:               imported: 1\n",
            "Warning: apt-key output should not be parsed (stdout is not a terminal)\n",
            "Selecting previously unselected package libfuse2:amd64.\n",
            "(Reading database ... 19816 files and directories currently installed.)\n",
            "Preparing to unpack .../libfuse2_2.9.7-1ubuntu1_amd64.deb ...\n",
            "Unpacking libfuse2:amd64 (2.9.7-1ubuntu1) ...\n",
            "Selecting previously unselected package fuse.\n",
            "Preparing to unpack .../fuse_2.9.7-1ubuntu1_amd64.deb ...\n",
            "Unpacking fuse (2.9.7-1ubuntu1) ...\n",
            "Selecting previously unselected package google-drive-ocamlfuse.\n",
            "Preparing to unpack .../google-drive-ocamlfuse_0.6.21-0ubuntu2_amd64.deb ...\n",
            "Unpacking google-drive-ocamlfuse (0.6.21-0ubuntu2) ...\n",
            "Setting up libfuse2:amd64 (2.9.7-1ubuntu1) ...\n",
            "Processing triggers for libc-bin (2.26-0ubuntu2.1) ...\n",
            "Setting up fuse (2.9.7-1ubuntu1) ...\n",
            "Setting up google-drive-ocamlfuse (0.6.21-0ubuntu2) ...\n",
            "Please, open the following URL in a web browser: https://accounts.google.com/o/oauth2/auth?client_id=32555940559.apps.googleusercontent.com&redirect_uri=urn%3Aietf%3Awg%3Aoauth%3A2.0%3Aoob&scope=https%3A%2F%2Fwww.googleapis.com%2Fauth%2Fdrive&response_type=code&access_type=offline&approval_prompt=force\n",
            "··········\n",
            "Please, open the following URL in a web browser: https://accounts.google.com/o/oauth2/auth?client_id=32555940559.apps.googleusercontent.com&redirect_uri=urn%3Aietf%3Awg%3Aoauth%3A2.0%3Aoob&scope=https%3A%2F%2Fwww.googleapis.com%2Fauth%2Fdrive&response_type=code&access_type=offline&approval_prompt=force\n",
            "Please enter the verification code: Access token retrieved correctly.\n"
          ],
          "name": "stdout"
        }
      ]
    },
    {
      "metadata": {
        "id": "S13Rjcx3ZmtJ",
        "colab_type": "code",
        "outputId": "5cfa514b-c12d-44da-c8ed-816c980e0ae3",
        "colab": {
          "base_uri": "https://localhost:8080/",
          "height": 34
        }
      },
      "cell_type": "code",
      "source": [
        "# !mkdir -p drive\n",
        "# !google-drive-ocamlfuse drive\n",
        "from google.colab import drive\n",
        "drive.mount('/content/drive')"
      ],
      "execution_count": 0,
      "outputs": [
        {
          "output_type": "stream",
          "text": [
            "Mounted at /content/drive\n"
          ],
          "name": "stdout"
        }
      ]
    },
    {
      "metadata": {
        "id": "5QzffVW-ZsX1",
        "colab_type": "code",
        "outputId": "83ca04b0-7171-4aa9-e354-e1d826fff57a",
        "colab": {
          "base_uri": "https://localhost:8080/",
          "height": 68
        }
      },
      "cell_type": "code",
      "source": [
        "%cd drive\n",
        "%cd My Drive/Colab Notebooks \n",
        "%cd Assignments_sem7/\n"
      ],
      "execution_count": 0,
      "outputs": [
        {
          "output_type": "stream",
          "text": [
            "/content/drive\n",
            "/content/drive/My Drive/Colab Notebooks\n",
            "/content/drive/My Drive/Colab Notebooks/Assignments_sem7\n"
          ],
          "name": "stdout"
        }
      ]
    },
    {
      "metadata": {
        "id": "wKL7SumaZ2dz",
        "colab_type": "code",
        "outputId": "f6927cc0-e6d9-412c-f996-44c4df711862",
        "colab": {
          "base_uri": "https://localhost:8080/",
          "height": 51
        }
      },
      "cell_type": "code",
      "source": [
        "!ls"
      ],
      "execution_count": 0,
      "outputs": [
        {
          "output_type": "stream",
          "text": [
            "Assignment1_CF\t      Assignment3.ipynb     IP.ipynb\n",
            "Assignment2_IA.ipynb  IA_Assignment1.ipynb  ml-100k\n"
          ],
          "name": "stdout"
        }
      ]
    },
    {
      "metadata": {
        "id": "lSKI3AsprhwD",
        "colab_type": "text"
      },
      "cell_type": "markdown",
      "source": [
        "## **Recommendation System** \n",
        "I've implemented a recomendation system using KNN and Cosine similarity "
      ]
    },
    {
      "metadata": {
        "id": "ol36aDAxXYXI",
        "colab_type": "code",
        "colab": {}
      },
      "cell_type": "code",
      "source": [
        "import pandas as pandas\n",
        "import numpy as np\n",
        "from sklearn.model_selection import train_test_split\n",
        "from sklearn.metrics.pairwise import cosine_similarity\n",
        "from sklearn.metrics.pairwise import pairwise_distances\n",
        "from numpy import newaxis\n",
        "from sklearn.metrics import mean_absolute_error\n",
        "\n",
        "# 100k ratings - 943 users - 1682 items\n",
        "# each user rated atleast 20 movies\n",
        "# user_id | item_id | rating | timestamp |\n",
        "\n"
      ],
      "execution_count": 0,
      "outputs": []
    },
    {
      "metadata": {
        "id": "-5y2-X6BaetA",
        "colab_type": "code",
        "colab": {}
      },
      "cell_type": "code",
      "source": [
        "header = ['user','item','rating','time']\n",
        "\n",
        "\n",
        "dataframe = pandas.read_csv('ml-100k/u.data',sep='\\t',names=header)\n"
      ],
      "execution_count": 0,
      "outputs": []
    },
    {
      "metadata": {
        "id": "ks8hl5Lcr57x",
        "colab_type": "text"
      },
      "cell_type": "markdown",
      "source": [
        "Just some tables to show what the data looks like...\n"
      ]
    },
    {
      "metadata": {
        "id": "1lnEtfkWeO32",
        "colab_type": "code",
        "outputId": "f2d32038-9966-43ea-a970-29260653e3ec",
        "colab": {
          "base_uri": "https://localhost:8080/",
          "height": 34
        }
      },
      "cell_type": "code",
      "source": [
        "dataframe.shape"
      ],
      "execution_count": 0,
      "outputs": [
        {
          "output_type": "execute_result",
          "data": {
            "text/plain": [
              "(100000, 4)"
            ]
          },
          "metadata": {
            "tags": []
          },
          "execution_count": 6
        }
      ]
    },
    {
      "metadata": {
        "id": "lx0qk3MPeQ6i",
        "colab_type": "code",
        "outputId": "99df8a84-8e24-4807-bf6f-381760b28f2a",
        "colab": {
          "base_uri": "https://localhost:8080/",
          "height": 204
        }
      },
      "cell_type": "code",
      "source": [
        "dataframe.head()"
      ],
      "execution_count": 0,
      "outputs": [
        {
          "output_type": "execute_result",
          "data": {
            "text/html": [
              "<div>\n",
              "<style scoped>\n",
              "    .dataframe tbody tr th:only-of-type {\n",
              "        vertical-align: middle;\n",
              "    }\n",
              "\n",
              "    .dataframe tbody tr th {\n",
              "        vertical-align: top;\n",
              "    }\n",
              "\n",
              "    .dataframe thead th {\n",
              "        text-align: right;\n",
              "    }\n",
              "</style>\n",
              "<table border=\"1\" class=\"dataframe\">\n",
              "  <thead>\n",
              "    <tr style=\"text-align: right;\">\n",
              "      <th></th>\n",
              "      <th>user</th>\n",
              "      <th>item</th>\n",
              "      <th>rating</th>\n",
              "      <th>time</th>\n",
              "    </tr>\n",
              "  </thead>\n",
              "  <tbody>\n",
              "    <tr>\n",
              "      <th>0</th>\n",
              "      <td>196</td>\n",
              "      <td>242</td>\n",
              "      <td>3</td>\n",
              "      <td>881250949</td>\n",
              "    </tr>\n",
              "    <tr>\n",
              "      <th>1</th>\n",
              "      <td>186</td>\n",
              "      <td>302</td>\n",
              "      <td>3</td>\n",
              "      <td>891717742</td>\n",
              "    </tr>\n",
              "    <tr>\n",
              "      <th>2</th>\n",
              "      <td>22</td>\n",
              "      <td>377</td>\n",
              "      <td>1</td>\n",
              "      <td>878887116</td>\n",
              "    </tr>\n",
              "    <tr>\n",
              "      <th>3</th>\n",
              "      <td>244</td>\n",
              "      <td>51</td>\n",
              "      <td>2</td>\n",
              "      <td>880606923</td>\n",
              "    </tr>\n",
              "    <tr>\n",
              "      <th>4</th>\n",
              "      <td>166</td>\n",
              "      <td>346</td>\n",
              "      <td>1</td>\n",
              "      <td>886397596</td>\n",
              "    </tr>\n",
              "  </tbody>\n",
              "</table>\n",
              "</div>"
            ],
            "text/plain": [
              "   user  item  rating       time\n",
              "0   196   242       3  881250949\n",
              "1   186   302       3  891717742\n",
              "2    22   377       1  878887116\n",
              "3   244    51       2  880606923\n",
              "4   166   346       1  886397596"
            ]
          },
          "metadata": {
            "tags": []
          },
          "execution_count": 7
        }
      ]
    },
    {
      "metadata": {
        "id": "mPMc5otNeUsV",
        "colab_type": "code",
        "colab": {}
      },
      "cell_type": "code",
      "source": [
        "from sklearn.metrics import mean_absolute_error\n",
        "\n",
        "dataframe = dataframe.drop(labels='time',axis=1)"
      ],
      "execution_count": 0,
      "outputs": []
    },
    {
      "metadata": {
        "id": "1lgEDDn-ebzX",
        "colab_type": "code",
        "outputId": "38ea6879-819a-48e4-a5ea-45fbfd935f82",
        "colab": {
          "base_uri": "https://localhost:8080/",
          "height": 204
        }
      },
      "cell_type": "code",
      "source": [
        "dataframe.head()"
      ],
      "execution_count": 0,
      "outputs": [
        {
          "output_type": "execute_result",
          "data": {
            "text/html": [
              "<div>\n",
              "<style scoped>\n",
              "    .dataframe tbody tr th:only-of-type {\n",
              "        vertical-align: middle;\n",
              "    }\n",
              "\n",
              "    .dataframe tbody tr th {\n",
              "        vertical-align: top;\n",
              "    }\n",
              "\n",
              "    .dataframe thead th {\n",
              "        text-align: right;\n",
              "    }\n",
              "</style>\n",
              "<table border=\"1\" class=\"dataframe\">\n",
              "  <thead>\n",
              "    <tr style=\"text-align: right;\">\n",
              "      <th></th>\n",
              "      <th>user</th>\n",
              "      <th>item</th>\n",
              "      <th>rating</th>\n",
              "    </tr>\n",
              "  </thead>\n",
              "  <tbody>\n",
              "    <tr>\n",
              "      <th>0</th>\n",
              "      <td>196</td>\n",
              "      <td>242</td>\n",
              "      <td>3</td>\n",
              "    </tr>\n",
              "    <tr>\n",
              "      <th>1</th>\n",
              "      <td>186</td>\n",
              "      <td>302</td>\n",
              "      <td>3</td>\n",
              "    </tr>\n",
              "    <tr>\n",
              "      <th>2</th>\n",
              "      <td>22</td>\n",
              "      <td>377</td>\n",
              "      <td>1</td>\n",
              "    </tr>\n",
              "    <tr>\n",
              "      <th>3</th>\n",
              "      <td>244</td>\n",
              "      <td>51</td>\n",
              "      <td>2</td>\n",
              "    </tr>\n",
              "    <tr>\n",
              "      <th>4</th>\n",
              "      <td>166</td>\n",
              "      <td>346</td>\n",
              "      <td>1</td>\n",
              "    </tr>\n",
              "  </tbody>\n",
              "</table>\n",
              "</div>"
            ],
            "text/plain": [
              "   user  item  rating\n",
              "0   196   242       3\n",
              "1   186   302       3\n",
              "2    22   377       1\n",
              "3   244    51       2\n",
              "4   166   346       1"
            ]
          },
          "metadata": {
            "tags": []
          },
          "execution_count": 9
        }
      ]
    },
    {
      "metadata": {
        "id": "cxHA6WPvhRnc",
        "colab_type": "code",
        "colab": {}
      },
      "cell_type": "code",
      "source": [
        "Num_users = 943\n",
        "Num_mov = 1682"
      ],
      "execution_count": 0,
      "outputs": []
    },
    {
      "metadata": {
        "id": "x1ClxfOna8yz",
        "colab_type": "code",
        "outputId": "f3084e56-18a5-4b25-ad67-e7e71b786382",
        "colab": {
          "base_uri": "https://localhost:8080/",
          "height": 34
        }
      },
      "cell_type": "code",
      "source": [
        "\n",
        "train,test = train_test_split(dataframe,test_size = 0.2,shuffle=False)\n",
        "# algo = KNN()\n",
        "train.shape,test.shape"
      ],
      "execution_count": 0,
      "outputs": [
        {
          "output_type": "execute_result",
          "data": {
            "text/plain": [
              "((80000, 3), (20000, 3))"
            ]
          },
          "metadata": {
            "tags": []
          },
          "execution_count": 11
        }
      ]
    },
    {
      "metadata": {
        "id": "QXtZ1wLQkl0t",
        "colab_type": "code",
        "outputId": "c4f3ede1-0cb7-427d-fc66-b7058767d6de",
        "colab": {
          "base_uri": "https://localhost:8080/",
          "height": 221
        }
      },
      "cell_type": "code",
      "source": [
        "mat_train = np.zeros((Num_users,Num_mov))\n",
        "mat_test = np.zeros((Num_users,Num_mov))\n",
        "j = 0\n",
        "for i in train.itertuples():\n",
        "  mat_train[i[1]-1,i[2]-1] = i[3]\n",
        "  if(j<5):\n",
        "    print(\"train-> \",i[1]-1,i[2]-1,i[3])\n",
        "  j+=1\n",
        "print(\"---------\")\n",
        "j = 0\n",
        "for i in test.itertuples():\n",
        "  mat_test[i[1]-1,i[2]-1] = i[3]\n",
        "  if(j<5):\n",
        "    print(\"test -> \",i[1]-1,i[2]-1,i[3])\n",
        "  j+=1\n",
        "print(mat_train.shape)\n",
        "\n"
      ],
      "execution_count": 0,
      "outputs": [
        {
          "output_type": "stream",
          "text": [
            "train->  195 241 3\n",
            "train->  185 301 3\n",
            "train->  21 376 1\n",
            "train->  243 50 2\n",
            "train->  165 345 1\n",
            "---------\n",
            "test ->  862 1430 4\n",
            "test ->  760 1286 1\n",
            "test ->  862 321 1\n",
            "test ->  827 693 2\n",
            "test ->  888 522 4\n",
            "(943, 1682)\n"
          ],
          "name": "stdout"
        }
      ]
    },
    {
      "metadata": {
        "id": "74k70D_Zsasv",
        "colab_type": "text"
      },
      "cell_type": "markdown",
      "source": [
        "Defining functions used for predictions and one is div0 which solves the problem of division with zero."
      ]
    },
    {
      "metadata": {
        "id": "s8a0t8EOoKjA",
        "colab_type": "code",
        "colab": {}
      },
      "cell_type": "code",
      "source": [
        "#increase dimension using newaxis\n",
        "def div0( arr1,arr2 ):\n",
        "  with np.errstate(divide='ignore', invalid='ignore'):\n",
        "    final=np.true_divide(arr1,arr2)\n",
        "    final[ ~ np.isfinite(final)] = 0  \n",
        "  return final\n",
        "\n",
        "def user_predict(cosine,rating):\n",
        "  mean = rating.mean(axis=1)\n",
        "  diff = (rating - mean[:,newaxis])\n",
        "  #compute cosine distance\n",
        "  a = np.array([np.sum(cosine,axis=1)]).T\n",
        "  b = (cosine.dot(diff))\n",
        "  cosine_sim = div0(b,a)\n",
        "#   print(b.shape,a.shape,cosine_sim.shape,mean[:,newaxis].shape)\n",
        "  predict = mean[:,newaxis] + cosine_sim\n",
        "#   print(\"up = \",predict.shape) (943, 1682)\n",
        "  return predict\n",
        "\n",
        "\n",
        "def item_predict(cosine,rating):\n",
        "  array = np.array([np.sum(cosine,axis=1)])\n",
        "  a = rating.dot(cosine)\n",
        "#   predict = np.nan_to_num(a / array)\n",
        "  predict = div0(a,array)\n",
        "#   predict[predict == np.inf] = 0\n",
        "#   print(\"ip - \",a.shape,array.shape,predict.shape)\n",
        "  return predict\n"
      ],
      "execution_count": 0,
      "outputs": []
    },
    {
      "metadata": {
        "id": "Nyx_vMiqtK0_",
        "colab_type": "text"
      },
      "cell_type": "markdown",
      "source": [
        "Algorithm using Cosine distance to compute the similarity and predict the ratings.\n",
        "\n",
        "The Mean Absolute Error:\n",
        "- For items ->  0.296\n",
        "- For Users ->  0.268"
      ]
    },
    {
      "metadata": {
        "id": "py0PW-75rCvy",
        "colab_type": "code",
        "outputId": "1acadf49-140d-4c16-ed01-c790daef5f6f",
        "colab": {
          "base_uri": "https://localhost:8080/",
          "height": 51
        }
      },
      "cell_type": "code",
      "source": [
        "from sklearn.model_selection import KFold\n",
        "# from pandas import dataframe as df\n",
        "# import pandas.dataframe as df\n",
        "\n",
        "def kfold_tt(train,test,mae_isum,mae_usum):\n",
        "  mat_train = np.zeros((Num_users,Num_mov))\n",
        "  mat_test = np.zeros((Num_users,Num_mov))\n",
        "  j = 0\n",
        "  for i in train.itertuples():\n",
        "    mat_train[i[1]-1,i[2]-1] = i[3]\n",
        "#     if(j<5):\n",
        "#       print(\"train-> \",i[1]-1,i[2]-1,i[3])\n",
        "#     j+=1\n",
        "#   print(\"---------\")\n",
        "  j = 0\n",
        "  for i in test.itertuples():\n",
        "    mat_test[i[1]-1,i[2]-1] = i[3]\n",
        "#     if(j<5):\n",
        "#       print(\"test -> \",i[1]-1,i[2]-1,i[3])\n",
        "    j+=1\n",
        "#   print(mat_train.shape)\n",
        " \n",
        "  user_matrix = cosine_similarity(mat_train)\n",
        "  user_matrix.shape\n",
        "  item_matrix = cosine_similarity(mat_train.T)\n",
        "  item_matrix.shape  \n",
        "  \n",
        "  item_matrix = np.abs(item_matrix)\n",
        "  user_matrix = abs(user_matrix)\n",
        "\n",
        "  # print(np.isnan(item_matrix),np.isnan(mat_train))\n",
        "  item_prediction = item_predict(item_matrix,mat_train)\n",
        "  user_prediction = user_predict(user_matrix,mat_train)\n",
        "  \n",
        "  mae_u = mean_absolute_error(user_prediction,mat_test)\n",
        "  mae_i = mean_absolute_error(item_prediction, mat_test)\n",
        "#   print(\"User - \",mae_u)\n",
        "#   print(\"item - \",mae_i)\n",
        "  mae_isum += mae_i\n",
        "  mae_usum += mae_u\n",
        "  \n",
        "  return mae_isum,mae_usum\n",
        "  \n",
        "\n",
        "kf = KFold(n_splits=5)\n",
        "mae_isum,mae_usum = 0,0\n",
        "for traini,testi in kf.split(dataframe):\n",
        "  train = dataframe.iloc[traini]\n",
        "  test = dataframe.iloc[testi]\n",
        "  mae_isum,mae_usum = kfold_tt(train,test,mae_isum,mae_usum)\n",
        "  \n",
        "print(\"MAE_avg - ITEM -> \",mae_isum,\"\\nMAE_avg - USER -> \",mae_usum)\n",
        "\n",
        "\n"
      ],
      "execution_count": 0,
      "outputs": [
        {
          "output_type": "stream",
          "text": [
            "MAE_avg - ITEM ->  1.4796943065090207 \n",
            "MAE_avg - USER ->  1.3422562317934714\n"
          ],
          "name": "stdout"
        }
      ]
    },
    {
      "metadata": {
        "id": "RRO5g8S-vbq3",
        "colab_type": "text"
      },
      "cell_type": "markdown",
      "source": [
        "Using KNN"
      ]
    },
    {
      "metadata": {
        "id": "ksEC_lSp2s1B",
        "colab_type": "code",
        "colab": {}
      },
      "cell_type": "code",
      "source": [
        "from sklearn.neighbors import KNeighborsClassifier\n",
        "from sklearn.model_selection import KFold\n",
        "from sklearn.metrics import accuracy_score\n",
        "# ========================================================\n",
        "\n",
        "kf = KFold(n_splits=5)\n",
        "mae_isum, mae_usum = 0,0\n",
        "\n",
        "neighbour = KNeighborsClassifier(metric = 'cosine',n_neighbors=10)\n",
        "\n",
        "for traini, testi in kf.split(dataframe):\n",
        "  train = dataframe.iloc[traini]\n",
        "  test = dataframe.iloc[testi]\n",
        "  neighbour.fit(train.iloc[:,:1],train.iloc[:,2])\n",
        "  pred = neighbour.predict(test.iloc[:,0:1])\n",
        "  print(accuracy_score(test.iloc[:,2],pred))\n",
        "  \n",
        "#   neighbour.fit(data.iloc[:,0:4], data['Name'])\n",
        "  \n",
        "#   mae_isum,mae_usum = kfold_tt(train,test,mae_isum,mae_usum)\n",
        "  \n",
        "print(\"MAE_avg - ITEM -> \",mae_isum/5,\"\\nMAE_avg - USER -> \",mae_usum/5)\n",
        "\n",
        "\n"
      ],
      "execution_count": 0,
      "outputs": []
    },
    {
      "metadata": {
        "id": "dyogaa1u1HVw",
        "colab_type": "code",
        "colab": {}
      },
      "cell_type": "code",
      "source": [
        ""
      ],
      "execution_count": 0,
      "outputs": []
    }
  ]
}